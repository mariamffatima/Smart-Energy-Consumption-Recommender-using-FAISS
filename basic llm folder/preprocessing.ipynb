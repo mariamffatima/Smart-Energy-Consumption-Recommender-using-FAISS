{
 "cells": [
  {
   "cell_type": "code",
   "execution_count": 9,
   "metadata": {},
   "outputs": [
    {
     "name": "stdout",
     "output_type": "stream",
     "text": [
      "Requirement already satisfied: matplotlib in d:\\anaconda\\envs\\rec\\lib\\site-packages (3.10.1)\n",
      "Requirement already satisfied: contourpy>=1.0.1 in d:\\anaconda\\envs\\rec\\lib\\site-packages (from matplotlib) (1.3.2)\n",
      "Requirement already satisfied: cycler>=0.10 in d:\\anaconda\\envs\\rec\\lib\\site-packages (from matplotlib) (0.12.1)\n",
      "Requirement already satisfied: fonttools>=4.22.0 in d:\\anaconda\\envs\\rec\\lib\\site-packages (from matplotlib) (4.57.0)\n",
      "Requirement already satisfied: kiwisolver>=1.3.1 in d:\\anaconda\\envs\\rec\\lib\\site-packages (from matplotlib) (1.4.8)\n",
      "Requirement already satisfied: numpy>=1.23 in d:\\anaconda\\envs\\rec\\lib\\site-packages (from matplotlib) (1.26.4)\n",
      "Requirement already satisfied: packaging>=20.0 in d:\\anaconda\\envs\\rec\\lib\\site-packages (from matplotlib) (24.2)\n",
      "Requirement already satisfied: pillow>=8 in d:\\anaconda\\envs\\rec\\lib\\site-packages (from matplotlib) (11.2.1)\n",
      "Requirement already satisfied: pyparsing>=2.3.1 in d:\\anaconda\\envs\\rec\\lib\\site-packages (from matplotlib) (3.2.3)\n",
      "Requirement already satisfied: python-dateutil>=2.7 in d:\\anaconda\\envs\\rec\\lib\\site-packages (from matplotlib) (2.9.0.post0)\n",
      "Requirement already satisfied: six>=1.5 in d:\\anaconda\\envs\\rec\\lib\\site-packages (from python-dateutil>=2.7->matplotlib) (1.16.0)\n",
      "Note: you may need to restart the kernel to use updated packages.\n"
     ]
    }
   ],
   "source": [
    "pip install matplotlib"
   ]
  },
  {
   "cell_type": "code",
   "execution_count": 10,
   "metadata": {},
   "outputs": [
    {
     "name": "stdout",
     "output_type": "stream",
     "text": [
      "Requirement already satisfied: seaborn in d:\\anaconda\\envs\\rec\\lib\\site-packages (0.13.2)\n",
      "Requirement already satisfied: numpy!=1.24.0,>=1.20 in d:\\anaconda\\envs\\rec\\lib\\site-packages (from seaborn) (1.26.4)\n",
      "Requirement already satisfied: pandas>=1.2 in d:\\anaconda\\envs\\rec\\lib\\site-packages (from seaborn) (2.2.3)\n",
      "Requirement already satisfied: matplotlib!=3.6.1,>=3.4 in d:\\anaconda\\envs\\rec\\lib\\site-packages (from seaborn) (3.10.1)\n",
      "Requirement already satisfied: contourpy>=1.0.1 in d:\\anaconda\\envs\\rec\\lib\\site-packages (from matplotlib!=3.6.1,>=3.4->seaborn) (1.3.2)\n",
      "Requirement already satisfied: cycler>=0.10 in d:\\anaconda\\envs\\rec\\lib\\site-packages (from matplotlib!=3.6.1,>=3.4->seaborn) (0.12.1)\n",
      "Requirement already satisfied: fonttools>=4.22.0 in d:\\anaconda\\envs\\rec\\lib\\site-packages (from matplotlib!=3.6.1,>=3.4->seaborn) (4.57.0)\n",
      "Requirement already satisfied: kiwisolver>=1.3.1 in d:\\anaconda\\envs\\rec\\lib\\site-packages (from matplotlib!=3.6.1,>=3.4->seaborn) (1.4.8)\n",
      "Requirement already satisfied: packaging>=20.0 in d:\\anaconda\\envs\\rec\\lib\\site-packages (from matplotlib!=3.6.1,>=3.4->seaborn) (24.2)\n",
      "Requirement already satisfied: pillow>=8 in d:\\anaconda\\envs\\rec\\lib\\site-packages (from matplotlib!=3.6.1,>=3.4->seaborn) (11.2.1)\n",
      "Requirement already satisfied: pyparsing>=2.3.1 in d:\\anaconda\\envs\\rec\\lib\\site-packages (from matplotlib!=3.6.1,>=3.4->seaborn) (3.2.3)\n",
      "Requirement already satisfied: python-dateutil>=2.7 in d:\\anaconda\\envs\\rec\\lib\\site-packages (from matplotlib!=3.6.1,>=3.4->seaborn) (2.9.0.post0)\n",
      "Requirement already satisfied: pytz>=2020.1 in d:\\anaconda\\envs\\rec\\lib\\site-packages (from pandas>=1.2->seaborn) (2025.2)\n",
      "Requirement already satisfied: tzdata>=2022.7 in d:\\anaconda\\envs\\rec\\lib\\site-packages (from pandas>=1.2->seaborn) (2025.2)\n",
      "Requirement already satisfied: six>=1.5 in d:\\anaconda\\envs\\rec\\lib\\site-packages (from python-dateutil>=2.7->matplotlib!=3.6.1,>=3.4->seaborn) (1.16.0)\n",
      "Note: you may need to restart the kernel to use updated packages.\n"
     ]
    }
   ],
   "source": [
    "pip install seaborn"
   ]
  },
  {
   "cell_type": "code",
   "execution_count": 22,
   "metadata": {},
   "outputs": [],
   "source": [
    "import pandas as pd\n",
    "import numpy as np\n",
    "import matplotlib.pyplot as plt\n",
    "\n",
    "import seaborn as sns"
   ]
  },
  {
   "cell_type": "code",
   "execution_count": 23,
   "metadata": {},
   "outputs": [
    {
     "data": {
      "application/vnd.microsoft.datawrangler.viewer.v0+json": {
       "columns": [
        {
         "name": "index",
         "rawType": "int64",
         "type": "integer"
        },
        {
         "name": "Unix Timestamp",
         "rawType": "int64",
         "type": "integer"
        },
        {
         "name": "Transaction_ID",
         "rawType": "int64",
         "type": "integer"
        },
        {
         "name": "Television",
         "rawType": "int64",
         "type": "integer"
        },
        {
         "name": "Dryer",
         "rawType": "int64",
         "type": "integer"
        },
        {
         "name": "Oven",
         "rawType": "int64",
         "type": "integer"
        },
        {
         "name": "Refrigerator",
         "rawType": "int64",
         "type": "integer"
        },
        {
         "name": "Microwave",
         "rawType": "int64",
         "type": "integer"
        },
        {
         "name": "Line Voltage",
         "rawType": "int64",
         "type": "integer"
        },
        {
         "name": "Voltage",
         "rawType": "int64",
         "type": "integer"
        },
        {
         "name": "Apparent Power",
         "rawType": "int64",
         "type": "integer"
        },
        {
         "name": "Energy Consumption (kWh)",
         "rawType": "float64",
         "type": "float"
        },
        {
         "name": "Month",
         "rawType": "object",
         "type": "string"
        },
        {
         "name": "Day of the Week",
         "rawType": "object",
         "type": "string"
        },
        {
         "name": "Hour of the Day",
         "rawType": "int64",
         "type": "integer"
        },
        {
         "name": "Offloading Decision",
         "rawType": "object",
         "type": "string"
        }
       ],
       "conversionMethod": "pd.DataFrame",
       "ref": "d4e59e6a-9a9f-4eef-9522-3808ea932fa0",
       "rows": [
        [
         "0",
         "1577836800",
         "1",
         "0",
         "0",
         "0",
         "1",
         "0",
         "237",
         "233",
         "1559",
         "24.00176259",
         "January",
         "Wednesday",
         "0",
         "Local"
        ],
        [
         "1",
         "1577839322",
         "2",
         "0",
         "1",
         "0",
         "0",
         "1",
         "232",
         "230",
         "1970",
         "31.22515417",
         "January",
         "Wednesday",
         "0",
         "Remote"
        ],
        [
         "2",
         "1577841845",
         "3",
         "0",
         "1",
         "0",
         "0",
         "0",
         "223",
         "222",
         "1684",
         "70.4607001",
         "January",
         "Wednesday",
         "1",
         "Remote"
        ],
        [
         "3",
         "1577844368",
         "4",
         "1",
         "0",
         "1",
         "1",
         "0",
         "225",
         "224",
         "1694",
         "32.26404281",
         "January",
         "Wednesday",
         "2",
         "Remote"
        ],
        [
         "4",
         "1577846891",
         "5",
         "1",
         "0",
         "0",
         "1",
         "0",
         "222",
         "214",
         "1889",
         "32.72811106",
         "January",
         "Wednesday",
         "2",
         "Local"
        ],
        [
         "5",
         "1577849414",
         "6",
         "0",
         "1",
         "0",
         "1",
         "0",
         "235",
         "227",
         "1503",
         "63.9384203",
         "January",
         "Wednesday",
         "3",
         "Local"
        ],
        [
         "6",
         "1577851937",
         "7",
         "0",
         "1",
         "0",
         "0",
         "1",
         "237",
         "237",
         "1739",
         "87.59288954",
         "January",
         "Wednesday",
         "4",
         "Local"
        ],
        [
         "7",
         "1577854460",
         "8",
         "0",
         "1",
         "1",
         "1",
         "0",
         "235",
         "227",
         "1996",
         "37.7962616",
         "January",
         "Wednesday",
         "4",
         "Local"
        ],
        [
         "8",
         "1577856983",
         "9",
         "0",
         "0",
         "1",
         "1",
         "0",
         "238",
         "235",
         "1549",
         "74.55393048",
         "January",
         "Wednesday",
         "5",
         "Local"
        ],
        [
         "9",
         "1577859506",
         "10",
         "0",
         "0",
         "0",
         "1",
         "1",
         "231",
         "230",
         "1771",
         "48.76375647",
         "January",
         "Wednesday",
         "6",
         "Remote"
        ]
       ],
       "shape": {
        "columns": 15,
        "rows": 10
       }
      },
      "text/html": [
       "<div>\n",
       "<style scoped>\n",
       "    .dataframe tbody tr th:only-of-type {\n",
       "        vertical-align: middle;\n",
       "    }\n",
       "\n",
       "    .dataframe tbody tr th {\n",
       "        vertical-align: top;\n",
       "    }\n",
       "\n",
       "    .dataframe thead th {\n",
       "        text-align: right;\n",
       "    }\n",
       "</style>\n",
       "<table border=\"1\" class=\"dataframe\">\n",
       "  <thead>\n",
       "    <tr style=\"text-align: right;\">\n",
       "      <th></th>\n",
       "      <th>Unix Timestamp</th>\n",
       "      <th>Transaction_ID</th>\n",
       "      <th>Television</th>\n",
       "      <th>Dryer</th>\n",
       "      <th>Oven</th>\n",
       "      <th>Refrigerator</th>\n",
       "      <th>Microwave</th>\n",
       "      <th>Line Voltage</th>\n",
       "      <th>Voltage</th>\n",
       "      <th>Apparent Power</th>\n",
       "      <th>Energy Consumption (kWh)</th>\n",
       "      <th>Month</th>\n",
       "      <th>Day of the Week</th>\n",
       "      <th>Hour of the Day</th>\n",
       "      <th>Offloading Decision</th>\n",
       "    </tr>\n",
       "  </thead>\n",
       "  <tbody>\n",
       "    <tr>\n",
       "      <th>0</th>\n",
       "      <td>1577836800</td>\n",
       "      <td>1</td>\n",
       "      <td>0</td>\n",
       "      <td>0</td>\n",
       "      <td>0</td>\n",
       "      <td>1</td>\n",
       "      <td>0</td>\n",
       "      <td>237</td>\n",
       "      <td>233</td>\n",
       "      <td>1559</td>\n",
       "      <td>24.001763</td>\n",
       "      <td>January</td>\n",
       "      <td>Wednesday</td>\n",
       "      <td>0</td>\n",
       "      <td>Local</td>\n",
       "    </tr>\n",
       "    <tr>\n",
       "      <th>1</th>\n",
       "      <td>1577839322</td>\n",
       "      <td>2</td>\n",
       "      <td>0</td>\n",
       "      <td>1</td>\n",
       "      <td>0</td>\n",
       "      <td>0</td>\n",
       "      <td>1</td>\n",
       "      <td>232</td>\n",
       "      <td>230</td>\n",
       "      <td>1970</td>\n",
       "      <td>31.225154</td>\n",
       "      <td>January</td>\n",
       "      <td>Wednesday</td>\n",
       "      <td>0</td>\n",
       "      <td>Remote</td>\n",
       "    </tr>\n",
       "    <tr>\n",
       "      <th>2</th>\n",
       "      <td>1577841845</td>\n",
       "      <td>3</td>\n",
       "      <td>0</td>\n",
       "      <td>1</td>\n",
       "      <td>0</td>\n",
       "      <td>0</td>\n",
       "      <td>0</td>\n",
       "      <td>223</td>\n",
       "      <td>222</td>\n",
       "      <td>1684</td>\n",
       "      <td>70.460700</td>\n",
       "      <td>January</td>\n",
       "      <td>Wednesday</td>\n",
       "      <td>1</td>\n",
       "      <td>Remote</td>\n",
       "    </tr>\n",
       "    <tr>\n",
       "      <th>3</th>\n",
       "      <td>1577844368</td>\n",
       "      <td>4</td>\n",
       "      <td>1</td>\n",
       "      <td>0</td>\n",
       "      <td>1</td>\n",
       "      <td>1</td>\n",
       "      <td>0</td>\n",
       "      <td>225</td>\n",
       "      <td>224</td>\n",
       "      <td>1694</td>\n",
       "      <td>32.264043</td>\n",
       "      <td>January</td>\n",
       "      <td>Wednesday</td>\n",
       "      <td>2</td>\n",
       "      <td>Remote</td>\n",
       "    </tr>\n",
       "    <tr>\n",
       "      <th>4</th>\n",
       "      <td>1577846891</td>\n",
       "      <td>5</td>\n",
       "      <td>1</td>\n",
       "      <td>0</td>\n",
       "      <td>0</td>\n",
       "      <td>1</td>\n",
       "      <td>0</td>\n",
       "      <td>222</td>\n",
       "      <td>214</td>\n",
       "      <td>1889</td>\n",
       "      <td>32.728111</td>\n",
       "      <td>January</td>\n",
       "      <td>Wednesday</td>\n",
       "      <td>2</td>\n",
       "      <td>Local</td>\n",
       "    </tr>\n",
       "    <tr>\n",
       "      <th>5</th>\n",
       "      <td>1577849414</td>\n",
       "      <td>6</td>\n",
       "      <td>0</td>\n",
       "      <td>1</td>\n",
       "      <td>0</td>\n",
       "      <td>1</td>\n",
       "      <td>0</td>\n",
       "      <td>235</td>\n",
       "      <td>227</td>\n",
       "      <td>1503</td>\n",
       "      <td>63.938420</td>\n",
       "      <td>January</td>\n",
       "      <td>Wednesday</td>\n",
       "      <td>3</td>\n",
       "      <td>Local</td>\n",
       "    </tr>\n",
       "    <tr>\n",
       "      <th>6</th>\n",
       "      <td>1577851937</td>\n",
       "      <td>7</td>\n",
       "      <td>0</td>\n",
       "      <td>1</td>\n",
       "      <td>0</td>\n",
       "      <td>0</td>\n",
       "      <td>1</td>\n",
       "      <td>237</td>\n",
       "      <td>237</td>\n",
       "      <td>1739</td>\n",
       "      <td>87.592890</td>\n",
       "      <td>January</td>\n",
       "      <td>Wednesday</td>\n",
       "      <td>4</td>\n",
       "      <td>Local</td>\n",
       "    </tr>\n",
       "    <tr>\n",
       "      <th>7</th>\n",
       "      <td>1577854460</td>\n",
       "      <td>8</td>\n",
       "      <td>0</td>\n",
       "      <td>1</td>\n",
       "      <td>1</td>\n",
       "      <td>1</td>\n",
       "      <td>0</td>\n",
       "      <td>235</td>\n",
       "      <td>227</td>\n",
       "      <td>1996</td>\n",
       "      <td>37.796262</td>\n",
       "      <td>January</td>\n",
       "      <td>Wednesday</td>\n",
       "      <td>4</td>\n",
       "      <td>Local</td>\n",
       "    </tr>\n",
       "    <tr>\n",
       "      <th>8</th>\n",
       "      <td>1577856983</td>\n",
       "      <td>9</td>\n",
       "      <td>0</td>\n",
       "      <td>0</td>\n",
       "      <td>1</td>\n",
       "      <td>1</td>\n",
       "      <td>0</td>\n",
       "      <td>238</td>\n",
       "      <td>235</td>\n",
       "      <td>1549</td>\n",
       "      <td>74.553930</td>\n",
       "      <td>January</td>\n",
       "      <td>Wednesday</td>\n",
       "      <td>5</td>\n",
       "      <td>Local</td>\n",
       "    </tr>\n",
       "    <tr>\n",
       "      <th>9</th>\n",
       "      <td>1577859506</td>\n",
       "      <td>10</td>\n",
       "      <td>0</td>\n",
       "      <td>0</td>\n",
       "      <td>0</td>\n",
       "      <td>1</td>\n",
       "      <td>1</td>\n",
       "      <td>231</td>\n",
       "      <td>230</td>\n",
       "      <td>1771</td>\n",
       "      <td>48.763756</td>\n",
       "      <td>January</td>\n",
       "      <td>Wednesday</td>\n",
       "      <td>6</td>\n",
       "      <td>Remote</td>\n",
       "    </tr>\n",
       "  </tbody>\n",
       "</table>\n",
       "</div>"
      ],
      "text/plain": [
       "   Unix Timestamp  Transaction_ID  Television  Dryer  Oven  Refrigerator  \\\n",
       "0      1577836800               1           0      0     0             1   \n",
       "1      1577839322               2           0      1     0             0   \n",
       "2      1577841845               3           0      1     0             0   \n",
       "3      1577844368               4           1      0     1             1   \n",
       "4      1577846891               5           1      0     0             1   \n",
       "5      1577849414               6           0      1     0             1   \n",
       "6      1577851937               7           0      1     0             0   \n",
       "7      1577854460               8           0      1     1             1   \n",
       "8      1577856983               9           0      0     1             1   \n",
       "9      1577859506              10           0      0     0             1   \n",
       "\n",
       "   Microwave  Line Voltage  Voltage  Apparent Power  Energy Consumption (kWh)  \\\n",
       "0          0           237      233            1559                 24.001763   \n",
       "1          1           232      230            1970                 31.225154   \n",
       "2          0           223      222            1684                 70.460700   \n",
       "3          0           225      224            1694                 32.264043   \n",
       "4          0           222      214            1889                 32.728111   \n",
       "5          0           235      227            1503                 63.938420   \n",
       "6          1           237      237            1739                 87.592890   \n",
       "7          0           235      227            1996                 37.796262   \n",
       "8          0           238      235            1549                 74.553930   \n",
       "9          1           231      230            1771                 48.763756   \n",
       "\n",
       "     Month Day of the Week  Hour of the Day Offloading Decision  \n",
       "0  January       Wednesday                0               Local  \n",
       "1  January       Wednesday                0              Remote  \n",
       "2  January       Wednesday                1              Remote  \n",
       "3  January       Wednesday                2              Remote  \n",
       "4  January       Wednesday                2               Local  \n",
       "5  January       Wednesday                3               Local  \n",
       "6  January       Wednesday                4               Local  \n",
       "7  January       Wednesday                4               Local  \n",
       "8  January       Wednesday                5               Local  \n",
       "9  January       Wednesday                6              Remote  "
      ]
     },
     "execution_count": 23,
     "metadata": {},
     "output_type": "execute_result"
    }
   ],
   "source": [
    "#data2=pd.read_csv('smart_home_dataset.csv')\n",
    "url = \"https://huggingface.co/datasets/panda04/smart-home-dataset/raw/main/smart_home_dataset.csv\"\n",
    "data2 = pd.read_csv(url)\n",
    "data2.head(10)"
   ]
  },
  {
   "cell_type": "markdown",
   "metadata": {},
   "source": [
    "# Encoding"
   ]
  },
  {
   "cell_type": "code",
   "execution_count": 24,
   "metadata": {},
   "outputs": [],
   "source": [
    "data2=data2.drop(['Transaction_ID', 'Unix Timestamp'], axis=1)"
   ]
  },
  {
   "cell_type": "code",
   "execution_count": 25,
   "metadata": {},
   "outputs": [],
   "source": [
    "data2['is_peak_hour'] = data2['Hour of the Day'].apply(lambda x: 1 if (6 <= x <= 9) or (18 <= x <= 21) else 0)"
   ]
  },
  {
   "cell_type": "code",
   "execution_count": 26,
   "metadata": {},
   "outputs": [],
   "source": [
    "data2['total_appliance_usage'] = data2[['Television', 'Dryer', 'Oven', 'Refrigerator', 'Microwave']].sum(axis=1)"
   ]
  },
  {
   "cell_type": "code",
   "execution_count": 27,
   "metadata": {},
   "outputs": [],
   "source": [
    "consumption_threshold = data2['Energy Consumption (kWh)'].quantile(0.75)\n",
    "data2['is_high_consumption'] = data2['Energy Consumption (kWh)'].apply(lambda x: 1 if x > consumption_threshold else 0)"
   ]
  },
  {
   "cell_type": "code",
   "execution_count": 28,
   "metadata": {},
   "outputs": [],
   "source": [
    "data2['part_of_day'] = pd.cut(data2['Hour of the Day'], \n",
    "                              bins=[0, 6, 12, 18, 24],\n",
    "                              labels=['night', 'morning', 'afternoon', 'evening'])"
   ]
  },
  {
   "cell_type": "code",
   "execution_count": 29,
   "metadata": {},
   "outputs": [],
   "source": [
    "data2['is_weekend'] = data2['Day of the Week'].apply(lambda x: 1 if x in ['Saturday', 'Sunday'] else 0)"
   ]
  },
  {
   "cell_type": "code",
   "execution_count": 30,
   "metadata": {},
   "outputs": [],
   "source": [
    "season_dict = {\n",
    "    'December': 'Winter', 'January': 'Winter', 'February': 'Winter',\n",
    "    'March': 'Spring', 'April': 'Spring', 'May': 'Spring',\n",
    "    'June': 'Summer', 'July': 'Summer', 'August': 'Summer',\n",
    "    'September': 'Fall', 'October': 'Fall', 'November': 'Fall'\n",
    "}\n",
    "data2['Season'] = data2['Month'].map(season_dict)"
   ]
  },
  {
   "cell_type": "code",
   "execution_count": 31,
   "metadata": {},
   "outputs": [],
   "source": [
    "data2['hour_sin'] = np.sin(2 * np.pi * data2['Hour of the Day'] / 24)\n",
    "data2['hour_cos'] = np.cos(2 * np.pi * data2['Hour of the Day'] / 24)"
   ]
  },
  {
   "cell_type": "code",
   "execution_count": 32,
   "metadata": {},
   "outputs": [],
   "source": [
    "from sklearn.preprocessing import MinMaxScaler\n",
    "scaler = MinMaxScaler()\n",
    "features_to_scale = ['Line Voltage', 'Voltage', 'Apparent Power', 'Energy Consumption (kWh)']\n",
    "data2[features_to_scale] = scaler.fit_transform(data2[features_to_scale])"
   ]
  },
  {
   "cell_type": "code",
   "execution_count": 33,
   "metadata": {},
   "outputs": [],
   "source": [
    "appliances = ['Television', 'Dryer', 'Oven', 'Refrigerator', 'Microwave']\n",
    "for appliance in appliances:\n",
    "    data2[f'{appliance}_efficiency_ratio'] = data2[appliance] / (data2['Energy Consumption (kWh)'] + 1e-6)  # Prevent division by zero\n",
    "\n",
    "data2['power_factor'] = data2['Apparent Power'] / (data2['Line Voltage'] * data2['Voltage'] + 1e-6)\n",
    "\n",
    "data2['active_appliances'] = data2[appliances].sum(axis=1)\n",
    "data2['energy_per_active_appliance'] = data2['Energy Consumption (kWh)'] / (data2['active_appliances'] + 1e-6)"
   ]
  },
  {
   "cell_type": "code",
   "execution_count": 34,
   "metadata": {},
   "outputs": [
    {
     "data": {
      "text/plain": [
       "Index(['Television', 'Dryer', 'Oven', 'Refrigerator', 'Microwave',\n",
       "       'Line Voltage', 'Voltage', 'Apparent Power', 'Energy Consumption (kWh)',\n",
       "       'Month', 'Day of the Week', 'Hour of the Day', 'Offloading Decision',\n",
       "       'is_peak_hour', 'total_appliance_usage', 'is_high_consumption',\n",
       "       'part_of_day', 'is_weekend', 'Season', 'hour_sin', 'hour_cos',\n",
       "       'Television_efficiency_ratio', 'Dryer_efficiency_ratio',\n",
       "       'Oven_efficiency_ratio', 'Refrigerator_efficiency_ratio',\n",
       "       'Microwave_efficiency_ratio', 'power_factor', 'active_appliances',\n",
       "       'energy_per_active_appliance'],\n",
       "      dtype='object')"
      ]
     },
     "execution_count": 34,
     "metadata": {},
     "output_type": "execute_result"
    }
   ],
   "source": [
    "data2.columns"
   ]
  },
  {
   "cell_type": "markdown",
   "metadata": {},
   "source": [
    "# Categorical Encoding"
   ]
  },
  {
   "cell_type": "code",
   "execution_count": 35,
   "metadata": {},
   "outputs": [],
   "source": [
    "from sklearn.preprocessing import OneHotEncoder\n",
    "\n",
    "# Columns to encode\n",
    "cat_cols = ['Season', 'part_of_day', 'Day of the Week', 'Offloading Decision']\n",
    "\n",
    "# One-Hot Encoding\n",
    "data2_encoded = pd.get_dummies(data2, columns=cat_cols, drop_first=True)\n"
   ]
  },
  {
   "cell_type": "code",
   "execution_count": 36,
   "metadata": {},
   "outputs": [],
   "source": [
    "from sklearn.compose import ColumnTransformer\n",
    "from sklearn.preprocessing import OneHotEncoder\n",
    "\n",
    "# Define preprocessor\n",
    "preprocessor = ColumnTransformer(\n",
    "    transformers=[\n",
    "        ('cat', OneHotEncoder(drop='first'), cat_cols)\n",
    "    ],\n",
    "    remainder='passthrough'  # Keep other columns unchanged\n",
    ")\n"
   ]
  },
  {
   "cell_type": "code",
   "execution_count": 37,
   "metadata": {},
   "outputs": [
    {
     "data": {
      "text/plain": [
       "Index(['Television', 'Dryer', 'Oven', 'Refrigerator', 'Microwave',\n",
       "       'Line Voltage', 'Voltage', 'Apparent Power', 'Energy Consumption (kWh)',\n",
       "       'Month', 'Hour of the Day', 'is_peak_hour', 'total_appliance_usage',\n",
       "       'is_high_consumption', 'is_weekend', 'hour_sin', 'hour_cos',\n",
       "       'Television_efficiency_ratio', 'Dryer_efficiency_ratio',\n",
       "       'Oven_efficiency_ratio', 'Refrigerator_efficiency_ratio',\n",
       "       'Microwave_efficiency_ratio', 'power_factor', 'active_appliances',\n",
       "       'energy_per_active_appliance', 'Season_Spring', 'Season_Summer',\n",
       "       'Season_Winter', 'part_of_day_morning', 'part_of_day_afternoon',\n",
       "       'part_of_day_evening', 'Day of the Week_Monday',\n",
       "       'Day of the Week_Saturday', 'Day of the Week_Sunday',\n",
       "       'Day of the Week_Thursday', 'Day of the Week_Tuesday',\n",
       "       'Day of the Week_Wednesday', 'Offloading Decision_Remote'],\n",
       "      dtype='object')"
      ]
     },
     "execution_count": 37,
     "metadata": {},
     "output_type": "execute_result"
    }
   ],
   "source": [
    "data2_encoded.columns"
   ]
  },
  {
   "cell_type": "code",
   "execution_count": 38,
   "metadata": {},
   "outputs": [],
   "source": [
    "#  haven’t normalized newly created features like energy_per_active_appliance\n",
    "final_numeric = ['energy_per_active_appliance', 'total_appliance_usage', 'active_appliances']\n",
    "\n",
    "scaler = MinMaxScaler()\n",
    "data2_encoded[final_numeric] = scaler.fit_transform(data2_encoded[final_numeric])\n"
   ]
  },
  {
   "cell_type": "markdown",
   "metadata": {},
   "source": [
    "# Split Dataset (Train/Test/Validation)"
   ]
  },
  {
   "cell_type": "code",
   "execution_count": 39,
   "metadata": {},
   "outputs": [],
   "source": [
    "from sklearn.model_selection import train_test_split\n",
    "\n",
    "X = data2_encoded.drop('is_high_consumption', axis=1)\n",
    "y = data2_encoded['is_high_consumption']\n",
    "\n",
    "# 60% train, 20% validation, 20% test\n",
    "X_train, X_temp, y_train, y_temp = train_test_split(X, y, test_size=0.4, random_state=42)\n",
    "X_val, X_test, y_val, y_test = train_test_split(X_temp, y_temp, test_size=0.5, random_state=42)\n"
   ]
  },
  {
   "cell_type": "markdown",
   "metadata": {},
   "source": [
    "# Encoding Month to convert data into float 32"
   ]
  },
  {
   "cell_type": "code",
   "execution_count": 40,
   "metadata": {},
   "outputs": [],
   "source": [
    "month_mapping = {\n",
    "    'January': 1, 'February': 2, 'March': 3, 'April': 4,\n",
    "    'May': 5, 'June': 6, 'July': 7, 'August': 8,\n",
    "    'September': 9, 'October': 10, 'November': 11, 'December': 12\n",
    "}\n",
    "\n",
    "X_train['Month'] = X_train['Month'].map(month_mapping)\n",
    "X_val['Month'] = X_val['Month'].map(month_mapping)\n",
    "X_test['Month'] = X_test['Month'].map(month_mapping)\n"
   ]
  },
  {
   "cell_type": "markdown",
   "metadata": {},
   "source": [
    "# Convert All Data to float32\n",
    "TensorFlow works best with np.float32 (especially for deep learning models)"
   ]
  },
  {
   "cell_type": "code",
   "execution_count": 41,
   "metadata": {},
   "outputs": [],
   "source": [
    "import numpy as np\n",
    "\n",
    "X_train_tf = X_train.astype(np.float32)\n",
    "X_val_tf = X_val.astype(np.float32)\n",
    "X_test_tf = X_test.astype(np.float32)\n",
    "\n",
    "y_train_tf = y_train.astype(np.float32)\n",
    "y_val_tf = y_val.astype(np.float32)\n",
    "y_test_tf = y_test.astype(np.float32)\n"
   ]
  },
  {
   "cell_type": "markdown",
   "metadata": {},
   "source": [
    "# Converting to tensor datasets"
   ]
  },
  {
   "cell_type": "code",
   "execution_count": 42,
   "metadata": {},
   "outputs": [],
   "source": [
    "import tensorflow as tf\n",
    "\n",
    "train_ds = tf.data.Dataset.from_tensor_slices((X_train_tf.values, y_train_tf.values)).batch(32)\n",
    "val_ds = tf.data.Dataset.from_tensor_slices((X_val_tf.values, y_val_tf.values)).batch(32)\n",
    "test_ds = tf.data.Dataset.from_tensor_slices((X_test_tf.values, y_test_tf.values)).batch(32)\n"
   ]
  },
  {
   "cell_type": "code",
   "execution_count": 43,
   "metadata": {},
   "outputs": [],
   "source": [
    "def create_sequences(X, y, time_steps=24):\n",
    "    Xs, ys = [], []\n",
    "    for i in range(len(X) - time_steps):\n",
    "        v = X[i:(i + time_steps)]\n",
    "        Xs.append(v)\n",
    "        ys.append(y[i + time_steps])\n",
    "    return np.array(Xs), np.array(ys)\n"
   ]
  },
  {
   "cell_type": "code",
   "execution_count": 44,
   "metadata": {},
   "outputs": [],
   "source": [
    "TIME_STEPS = 24 # bcz 24 hours in a day\n",
    "X_train_seq, y_train_seq = create_sequences(X_train_tf.values, y_train_tf.values, TIME_STEPS)\n",
    "X_val_seq, y_val_seq = create_sequences(X_val_tf.values, y_val_tf.values, TIME_STEPS)\n",
    "X_test_seq, y_test_seq = create_sequences(X_test_tf.values, y_test_tf.values, TIME_STEPS)\n"
   ]
  },
  {
   "cell_type": "code",
   "execution_count": 45,
   "metadata": {},
   "outputs": [],
   "source": [
    "train_ds = tf.data.Dataset.from_tensor_slices((X_train_seq, y_train_seq)).shuffle(1000).batch(32)\n",
    "val_ds = tf.data.Dataset.from_tensor_slices((X_val_seq, y_val_seq)).batch(32)\n",
    "test_ds = tf.data.Dataset.from_tensor_slices((X_test_seq, y_test_seq)).batch(32)\n"
   ]
  }
 ],
 "metadata": {
  "kernelspec": {
   "display_name": "Python 3",
   "language": "python",
   "name": "python3"
  },
  "language_info": {
   "codemirror_mode": {
    "name": "ipython",
    "version": 3
   },
   "file_extension": ".py",
   "mimetype": "text/x-python",
   "name": "python",
   "nbconvert_exporter": "python",
   "pygments_lexer": "ipython3",
   "version": "3.12.2"
  }
 },
 "nbformat": 4,
 "nbformat_minor": 2
}
