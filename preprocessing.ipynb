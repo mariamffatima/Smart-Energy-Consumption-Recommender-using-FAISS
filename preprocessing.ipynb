{
 "cells": [
  {
   "cell_type": "code",
   "execution_count": null,
   "metadata": {},
   "outputs": [],
   "source": [
    "import pandas as pd\n",
    "import numpy as np\n",
    "import matplotlib.pyplot as plt\n",
    "\n",
    "import seaborn as sns"
   ]
  },
  {
   "cell_type": "code",
   "execution_count": 7,
   "metadata": {},
   "outputs": [
    {
     "data": {
      "application/vnd.microsoft.datawrangler.viewer.v0+json": {
       "columns": [
        {
         "name": "index",
         "rawType": "int64",
         "type": "integer"
        },
        {
         "name": "Unix Timestamp",
         "rawType": "int64",
         "type": "integer"
        },
        {
         "name": "Transaction_ID",
         "rawType": "int64",
         "type": "integer"
        },
        {
         "name": "Television",
         "rawType": "int64",
         "type": "integer"
        },
        {
         "name": "Dryer",
         "rawType": "int64",
         "type": "integer"
        },
        {
         "name": "Oven",
         "rawType": "int64",
         "type": "integer"
        },
        {
         "name": "Refrigerator",
         "rawType": "int64",
         "type": "integer"
        },
        {
         "name": "Microwave",
         "rawType": "int64",
         "type": "integer"
        },
        {
         "name": "Line Voltage",
         "rawType": "int64",
         "type": "integer"
        },
        {
         "name": "Voltage",
         "rawType": "int64",
         "type": "integer"
        },
        {
         "name": "Apparent Power",
         "rawType": "int64",
         "type": "integer"
        },
        {
         "name": "Energy Consumption (kWh)",
         "rawType": "float64",
         "type": "float"
        },
        {
         "name": "Month",
         "rawType": "object",
         "type": "string"
        },
        {
         "name": "Day of the Week",
         "rawType": "object",
         "type": "string"
        },
        {
         "name": "Hour of the Day",
         "rawType": "int64",
         "type": "integer"
        },
        {
         "name": "Offloading Decision",
         "rawType": "object",
         "type": "string"
        }
       ],
       "conversionMethod": "pd.DataFrame",
       "ref": "3881158c-3d0c-4aa1-98c2-2cc8ea8caf0b",
       "rows": [
        [
         "0",
         "1577836800",
         "1",
         "0",
         "0",
         "0",
         "1",
         "0",
         "237",
         "233",
         "1559",
         "24.00176259",
         "January",
         "Wednesday",
         "0",
         "Local"
        ],
        [
         "1",
         "1577839322",
         "2",
         "0",
         "1",
         "0",
         "0",
         "1",
         "232",
         "230",
         "1970",
         "31.22515417",
         "January",
         "Wednesday",
         "0",
         "Remote"
        ],
        [
         "2",
         "1577841845",
         "3",
         "0",
         "1",
         "0",
         "0",
         "0",
         "223",
         "222",
         "1684",
         "70.4607001",
         "January",
         "Wednesday",
         "1",
         "Remote"
        ],
        [
         "3",
         "1577844368",
         "4",
         "1",
         "0",
         "1",
         "1",
         "0",
         "225",
         "224",
         "1694",
         "32.26404281",
         "January",
         "Wednesday",
         "2",
         "Remote"
        ],
        [
         "4",
         "1577846891",
         "5",
         "1",
         "0",
         "0",
         "1",
         "0",
         "222",
         "214",
         "1889",
         "32.72811106",
         "January",
         "Wednesday",
         "2",
         "Local"
        ],
        [
         "5",
         "1577849414",
         "6",
         "0",
         "1",
         "0",
         "1",
         "0",
         "235",
         "227",
         "1503",
         "63.9384203",
         "January",
         "Wednesday",
         "3",
         "Local"
        ],
        [
         "6",
         "1577851937",
         "7",
         "0",
         "1",
         "0",
         "0",
         "1",
         "237",
         "237",
         "1739",
         "87.59288954",
         "January",
         "Wednesday",
         "4",
         "Local"
        ],
        [
         "7",
         "1577854460",
         "8",
         "0",
         "1",
         "1",
         "1",
         "0",
         "235",
         "227",
         "1996",
         "37.7962616",
         "January",
         "Wednesday",
         "4",
         "Local"
        ],
        [
         "8",
         "1577856983",
         "9",
         "0",
         "0",
         "1",
         "1",
         "0",
         "238",
         "235",
         "1549",
         "74.55393048",
         "January",
         "Wednesday",
         "5",
         "Local"
        ],
        [
         "9",
         "1577859506",
         "10",
         "0",
         "0",
         "0",
         "1",
         "1",
         "231",
         "230",
         "1771",
         "48.76375647",
         "January",
         "Wednesday",
         "6",
         "Remote"
        ]
       ],
       "shape": {
        "columns": 15,
        "rows": 10
       }
      },
      "text/html": [
       "<div>\n",
       "<style scoped>\n",
       "    .dataframe tbody tr th:only-of-type {\n",
       "        vertical-align: middle;\n",
       "    }\n",
       "\n",
       "    .dataframe tbody tr th {\n",
       "        vertical-align: top;\n",
       "    }\n",
       "\n",
       "    .dataframe thead th {\n",
       "        text-align: right;\n",
       "    }\n",
       "</style>\n",
       "<table border=\"1\" class=\"dataframe\">\n",
       "  <thead>\n",
       "    <tr style=\"text-align: right;\">\n",
       "      <th></th>\n",
       "      <th>Unix Timestamp</th>\n",
       "      <th>Transaction_ID</th>\n",
       "      <th>Television</th>\n",
       "      <th>Dryer</th>\n",
       "      <th>Oven</th>\n",
       "      <th>Refrigerator</th>\n",
       "      <th>Microwave</th>\n",
       "      <th>Line Voltage</th>\n",
       "      <th>Voltage</th>\n",
       "      <th>Apparent Power</th>\n",
       "      <th>Energy Consumption (kWh)</th>\n",
       "      <th>Month</th>\n",
       "      <th>Day of the Week</th>\n",
       "      <th>Hour of the Day</th>\n",
       "      <th>Offloading Decision</th>\n",
       "    </tr>\n",
       "  </thead>\n",
       "  <tbody>\n",
       "    <tr>\n",
       "      <th>0</th>\n",
       "      <td>1577836800</td>\n",
       "      <td>1</td>\n",
       "      <td>0</td>\n",
       "      <td>0</td>\n",
       "      <td>0</td>\n",
       "      <td>1</td>\n",
       "      <td>0</td>\n",
       "      <td>237</td>\n",
       "      <td>233</td>\n",
       "      <td>1559</td>\n",
       "      <td>24.001763</td>\n",
       "      <td>January</td>\n",
       "      <td>Wednesday</td>\n",
       "      <td>0</td>\n",
       "      <td>Local</td>\n",
       "    </tr>\n",
       "    <tr>\n",
       "      <th>1</th>\n",
       "      <td>1577839322</td>\n",
       "      <td>2</td>\n",
       "      <td>0</td>\n",
       "      <td>1</td>\n",
       "      <td>0</td>\n",
       "      <td>0</td>\n",
       "      <td>1</td>\n",
       "      <td>232</td>\n",
       "      <td>230</td>\n",
       "      <td>1970</td>\n",
       "      <td>31.225154</td>\n",
       "      <td>January</td>\n",
       "      <td>Wednesday</td>\n",
       "      <td>0</td>\n",
       "      <td>Remote</td>\n",
       "    </tr>\n",
       "    <tr>\n",
       "      <th>2</th>\n",
       "      <td>1577841845</td>\n",
       "      <td>3</td>\n",
       "      <td>0</td>\n",
       "      <td>1</td>\n",
       "      <td>0</td>\n",
       "      <td>0</td>\n",
       "      <td>0</td>\n",
       "      <td>223</td>\n",
       "      <td>222</td>\n",
       "      <td>1684</td>\n",
       "      <td>70.460700</td>\n",
       "      <td>January</td>\n",
       "      <td>Wednesday</td>\n",
       "      <td>1</td>\n",
       "      <td>Remote</td>\n",
       "    </tr>\n",
       "    <tr>\n",
       "      <th>3</th>\n",
       "      <td>1577844368</td>\n",
       "      <td>4</td>\n",
       "      <td>1</td>\n",
       "      <td>0</td>\n",
       "      <td>1</td>\n",
       "      <td>1</td>\n",
       "      <td>0</td>\n",
       "      <td>225</td>\n",
       "      <td>224</td>\n",
       "      <td>1694</td>\n",
       "      <td>32.264043</td>\n",
       "      <td>January</td>\n",
       "      <td>Wednesday</td>\n",
       "      <td>2</td>\n",
       "      <td>Remote</td>\n",
       "    </tr>\n",
       "    <tr>\n",
       "      <th>4</th>\n",
       "      <td>1577846891</td>\n",
       "      <td>5</td>\n",
       "      <td>1</td>\n",
       "      <td>0</td>\n",
       "      <td>0</td>\n",
       "      <td>1</td>\n",
       "      <td>0</td>\n",
       "      <td>222</td>\n",
       "      <td>214</td>\n",
       "      <td>1889</td>\n",
       "      <td>32.728111</td>\n",
       "      <td>January</td>\n",
       "      <td>Wednesday</td>\n",
       "      <td>2</td>\n",
       "      <td>Local</td>\n",
       "    </tr>\n",
       "    <tr>\n",
       "      <th>5</th>\n",
       "      <td>1577849414</td>\n",
       "      <td>6</td>\n",
       "      <td>0</td>\n",
       "      <td>1</td>\n",
       "      <td>0</td>\n",
       "      <td>1</td>\n",
       "      <td>0</td>\n",
       "      <td>235</td>\n",
       "      <td>227</td>\n",
       "      <td>1503</td>\n",
       "      <td>63.938420</td>\n",
       "      <td>January</td>\n",
       "      <td>Wednesday</td>\n",
       "      <td>3</td>\n",
       "      <td>Local</td>\n",
       "    </tr>\n",
       "    <tr>\n",
       "      <th>6</th>\n",
       "      <td>1577851937</td>\n",
       "      <td>7</td>\n",
       "      <td>0</td>\n",
       "      <td>1</td>\n",
       "      <td>0</td>\n",
       "      <td>0</td>\n",
       "      <td>1</td>\n",
       "      <td>237</td>\n",
       "      <td>237</td>\n",
       "      <td>1739</td>\n",
       "      <td>87.592890</td>\n",
       "      <td>January</td>\n",
       "      <td>Wednesday</td>\n",
       "      <td>4</td>\n",
       "      <td>Local</td>\n",
       "    </tr>\n",
       "    <tr>\n",
       "      <th>7</th>\n",
       "      <td>1577854460</td>\n",
       "      <td>8</td>\n",
       "      <td>0</td>\n",
       "      <td>1</td>\n",
       "      <td>1</td>\n",
       "      <td>1</td>\n",
       "      <td>0</td>\n",
       "      <td>235</td>\n",
       "      <td>227</td>\n",
       "      <td>1996</td>\n",
       "      <td>37.796262</td>\n",
       "      <td>January</td>\n",
       "      <td>Wednesday</td>\n",
       "      <td>4</td>\n",
       "      <td>Local</td>\n",
       "    </tr>\n",
       "    <tr>\n",
       "      <th>8</th>\n",
       "      <td>1577856983</td>\n",
       "      <td>9</td>\n",
       "      <td>0</td>\n",
       "      <td>0</td>\n",
       "      <td>1</td>\n",
       "      <td>1</td>\n",
       "      <td>0</td>\n",
       "      <td>238</td>\n",
       "      <td>235</td>\n",
       "      <td>1549</td>\n",
       "      <td>74.553930</td>\n",
       "      <td>January</td>\n",
       "      <td>Wednesday</td>\n",
       "      <td>5</td>\n",
       "      <td>Local</td>\n",
       "    </tr>\n",
       "    <tr>\n",
       "      <th>9</th>\n",
       "      <td>1577859506</td>\n",
       "      <td>10</td>\n",
       "      <td>0</td>\n",
       "      <td>0</td>\n",
       "      <td>0</td>\n",
       "      <td>1</td>\n",
       "      <td>1</td>\n",
       "      <td>231</td>\n",
       "      <td>230</td>\n",
       "      <td>1771</td>\n",
       "      <td>48.763756</td>\n",
       "      <td>January</td>\n",
       "      <td>Wednesday</td>\n",
       "      <td>6</td>\n",
       "      <td>Remote</td>\n",
       "    </tr>\n",
       "  </tbody>\n",
       "</table>\n",
       "</div>"
      ],
      "text/plain": [
       "   Unix Timestamp  Transaction_ID  Television  Dryer  Oven  Refrigerator  \\\n",
       "0      1577836800               1           0      0     0             1   \n",
       "1      1577839322               2           0      1     0             0   \n",
       "2      1577841845               3           0      1     0             0   \n",
       "3      1577844368               4           1      0     1             1   \n",
       "4      1577846891               5           1      0     0             1   \n",
       "5      1577849414               6           0      1     0             1   \n",
       "6      1577851937               7           0      1     0             0   \n",
       "7      1577854460               8           0      1     1             1   \n",
       "8      1577856983               9           0      0     1             1   \n",
       "9      1577859506              10           0      0     0             1   \n",
       "\n",
       "   Microwave  Line Voltage  Voltage  Apparent Power  Energy Consumption (kWh)  \\\n",
       "0          0           237      233            1559                 24.001763   \n",
       "1          1           232      230            1970                 31.225154   \n",
       "2          0           223      222            1684                 70.460700   \n",
       "3          0           225      224            1694                 32.264043   \n",
       "4          0           222      214            1889                 32.728111   \n",
       "5          0           235      227            1503                 63.938420   \n",
       "6          1           237      237            1739                 87.592890   \n",
       "7          0           235      227            1996                 37.796262   \n",
       "8          0           238      235            1549                 74.553930   \n",
       "9          1           231      230            1771                 48.763756   \n",
       "\n",
       "     Month Day of the Week  Hour of the Day Offloading Decision  \n",
       "0  January       Wednesday                0               Local  \n",
       "1  January       Wednesday                0              Remote  \n",
       "2  January       Wednesday                1              Remote  \n",
       "3  January       Wednesday                2              Remote  \n",
       "4  January       Wednesday                2               Local  \n",
       "5  January       Wednesday                3               Local  \n",
       "6  January       Wednesday                4               Local  \n",
       "7  January       Wednesday                4               Local  \n",
       "8  January       Wednesday                5               Local  \n",
       "9  January       Wednesday                6              Remote  "
      ]
     },
     "execution_count": 7,
     "metadata": {},
     "output_type": "execute_result"
    }
   ],
   "source": [
    "#data2=pd.read_csv('smart_home_dataset.csv')\n",
    "url = \"https://huggingface.co/datasets/panda04/smart-home-dataset/raw/main/smart_home_dataset.csv\"\n",
    "data2 = pd.read_csv(url)\n",
    "data2.head(10)"
   ]
  },
  {
   "cell_type": "markdown",
   "metadata": {},
   "source": [
    "# Encoding"
   ]
  },
  {
   "cell_type": "code",
   "execution_count": 8,
   "metadata": {},
   "outputs": [],
   "source": [
    "data2=data2.drop(['Transaction_ID', 'Unix Timestamp'], axis=1)"
   ]
  },
  {
   "cell_type": "code",
   "execution_count": 9,
   "metadata": {},
   "outputs": [],
   "source": [
    "data2['is_peak_hour'] = data2['Hour of the Day'].apply(lambda x: 1 if (6 <= x <= 9) or (18 <= x <= 21) else 0)"
   ]
  },
  {
   "cell_type": "code",
   "execution_count": 10,
   "metadata": {},
   "outputs": [],
   "source": [
    "data2['total_appliance_usage'] = data2[['Television', 'Dryer', 'Oven', 'Refrigerator', 'Microwave']].sum(axis=1)"
   ]
  },
  {
   "cell_type": "code",
   "execution_count": 11,
   "metadata": {},
   "outputs": [],
   "source": [
    "consumption_threshold = data2['Energy Consumption (kWh)'].quantile(0.75)\n",
    "data2['is_high_consumption'] = data2['Energy Consumption (kWh)'].apply(lambda x: 1 if x > consumption_threshold else 0)"
   ]
  },
  {
   "cell_type": "code",
   "execution_count": 12,
   "metadata": {},
   "outputs": [],
   "source": [
    "data2['part_of_day'] = pd.cut(data2['Hour of the Day'], \n",
    "                              bins=[0, 6, 12, 18, 24],\n",
    "                              labels=['night', 'morning', 'afternoon', 'evening'])"
   ]
  },
  {
   "cell_type": "code",
   "execution_count": 13,
   "metadata": {},
   "outputs": [],
   "source": [
    "data2['is_weekend'] = data2['Day of the Week'].apply(lambda x: 1 if x in ['Saturday', 'Sunday'] else 0)"
   ]
  },
  {
   "cell_type": "code",
   "execution_count": 14,
   "metadata": {},
   "outputs": [],
   "source": [
    "season_dict = {\n",
    "    'December': 'Winter', 'January': 'Winter', 'February': 'Winter',\n",
    "    'March': 'Spring', 'April': 'Spring', 'May': 'Spring',\n",
    "    'June': 'Summer', 'July': 'Summer', 'August': 'Summer',\n",
    "    'September': 'Fall', 'October': 'Fall', 'November': 'Fall'\n",
    "}\n",
    "data2['Season'] = data2['Month'].map(season_dict)"
   ]
  },
  {
   "cell_type": "code",
   "execution_count": 15,
   "metadata": {},
   "outputs": [],
   "source": [
    "data2['hour_sin'] = np.sin(2 * np.pi * data2['Hour of the Day'] / 24)\n",
    "data2['hour_cos'] = np.cos(2 * np.pi * data2['Hour of the Day'] / 24)"
   ]
  },
  {
   "cell_type": "code",
   "execution_count": 16,
   "metadata": {},
   "outputs": [],
   "source": [
    "from sklearn.preprocessing import MinMaxScaler\n",
    "scaler = MinMaxScaler()\n",
    "features_to_scale = ['Line Voltage', 'Voltage', 'Apparent Power', 'Energy Consumption (kWh)']\n",
    "data2[features_to_scale] = scaler.fit_transform(data2[features_to_scale])"
   ]
  },
  {
   "cell_type": "code",
   "execution_count": 17,
   "metadata": {},
   "outputs": [],
   "source": [
    "appliances = ['Television', 'Dryer', 'Oven', 'Refrigerator', 'Microwave']\n",
    "for appliance in appliances:\n",
    "    data2[f'{appliance}_efficiency_ratio'] = data2[appliance] / (data2['Energy Consumption (kWh)'] + 1e-6)  # Prevent division by zero\n",
    "\n",
    "data2['power_factor'] = data2['Apparent Power'] / (data2['Line Voltage'] * data2['Voltage'] + 1e-6)\n",
    "\n",
    "data2['active_appliances'] = data2[appliances].sum(axis=1)\n",
    "data2['energy_per_active_appliance'] = data2['Energy Consumption (kWh)'] / (data2['active_appliances'] + 1e-6)"
   ]
  },
  {
   "cell_type": "code",
   "execution_count": 18,
   "metadata": {},
   "outputs": [
    {
     "data": {
      "text/plain": [
       "Index(['Television', 'Dryer', 'Oven', 'Refrigerator', 'Microwave',\n",
       "       'Line Voltage', 'Voltage', 'Apparent Power', 'Energy Consumption (kWh)',\n",
       "       'Month', 'Day of the Week', 'Hour of the Day', 'Offloading Decision',\n",
       "       'is_peak_hour', 'total_appliance_usage', 'is_high_consumption',\n",
       "       'part_of_day', 'is_weekend', 'Season', 'hour_sin', 'hour_cos',\n",
       "       'Television_efficiency_ratio', 'Dryer_efficiency_ratio',\n",
       "       'Oven_efficiency_ratio', 'Refrigerator_efficiency_ratio',\n",
       "       'Microwave_efficiency_ratio', 'power_factor', 'active_appliances',\n",
       "       'energy_per_active_appliance'],\n",
       "      dtype='object')"
      ]
     },
     "execution_count": 18,
     "metadata": {},
     "output_type": "execute_result"
    }
   ],
   "source": [
    "data2.columns"
   ]
  }
 ],
 "metadata": {
  "kernelspec": {
   "display_name": "Python 3",
   "language": "python",
   "name": "python3"
  },
  "language_info": {
   "codemirror_mode": {
    "name": "ipython",
    "version": 3
   },
   "file_extension": ".py",
   "mimetype": "text/x-python",
   "name": "python",
   "nbconvert_exporter": "python",
   "pygments_lexer": "ipython3",
   "version": "3.12.2"
  }
 },
 "nbformat": 4,
 "nbformat_minor": 2
}
